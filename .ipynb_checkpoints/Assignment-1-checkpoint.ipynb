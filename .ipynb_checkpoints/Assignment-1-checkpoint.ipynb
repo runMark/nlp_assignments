{
 "cells": [
  {
   "cell_type": "markdown",
   "metadata": {},
   "source": [
    "# Question 1"
   ]
  },
  {
   "cell_type": "code",
   "execution_count": 346,
   "metadata": {},
   "outputs": [],
   "source": [
    "%matplotlib inline\n",
    "\n",
    "import random\n",
    "import networkx as nx\n",
    "import jieba"
   ]
  },
  {
   "cell_type": "markdown",
   "metadata": {},
   "source": [
    "## BFS 搜索路径"
   ]
  },
  {
   "cell_type": "code",
   "execution_count": 62,
   "metadata": {},
   "outputs": [],
   "source": [
    "BEIJING, CHANGCHUN, MULUMUQI, WUHAN, GUNAGHZOU, SHENZHEN, BANGKOK, SHANGHAI, NEWYORK = \"\"\"\n",
    "BEIJING CHANGCHUN MULUMUQI WUHAN GUANGZHOU SHENZHEN BANGKOK SHANGHAI NEWYORK\n",
    "\"\"\".split()\n",
    "\n",
    "connection = {\n",
    "    CHANGCHUN: [BEIJING],\n",
    "    MULUMUQI: [BEIJING], \n",
    "    BEIJING: [MULUMUQI, CHANGCHUN, WUHAN, SHENZHEN, NEWYORK],\n",
    "    NEWYORK: [BEIJING, SHANGHAI],\n",
    "    SHANGHAI: [NEWYORK, WUHAN],\n",
    "    WUHAN: [SHANGHAI, BEIJING, GUNAGHZOU],\n",
    "    GUNAGHZOU: [WUHAN, BANGKOK],\n",
    "    SHENZHEN: [WUHAN, BANGKOK],\n",
    "    BANGKOK: [SHENZHEN, GUNAGHZOU]\n",
    "}"
   ]
  },
  {
   "cell_type": "code",
   "execution_count": 63,
   "metadata": {},
   "outputs": [],
   "source": [
    "graph = nx.DiGraph(connection)"
   ]
  },
  {
   "cell_type": "code",
   "execution_count": 64,
   "metadata": {},
   "outputs": [
    {
     "data": {
      "image/png": "[encoded data removed]",
      "text/plain": [
       "<Figure size 432x288 with 1 Axes>"
      ]
     },
     "metadata": {},
     "output_type": "display_data"
    }
   ],
   "source": [
    "nx.draw(graph, with_labels=True, node_size=1000, node_color='y', arrowstyle='->', arrow_color='r')"
   ]
  },
  {
   "cell_type": "code",
   "execution_count": 65,
   "metadata": {},
   "outputs": [],
   "source": [
    "def bfs_navigator(start, end, graph):\n",
    "    paths = [[start]]\n",
    "    searched = set()\n",
    "    \n",
    "    while paths:\n",
    "        path = paths.pop(0)\n",
    "        frontier = path[-1]\n",
    "        \n",
    "        if frontier in searched: continue\n",
    "            \n",
    "        successors = graph[frontier]\n",
    "        for s in successors:\n",
    "            if s == end:\n",
    "                path.append(s)\n",
    "                return ' -> '.join(path)\n",
    "            paths.append(path+[s])\n",
    "        \n",
    "        paths = sorted(paths, key=len)\n",
    "        searched.add(frontier)"
   ]
  },
  {
   "cell_type": "code",
   "execution_count": 66,
   "metadata": {},
   "outputs": [
    {
     "data": {
      "text/plain": [
       "'CHANGCHUN -> BEIJING -> SHENZHEN -> BANGKOK'"
      ]
     },
     "execution_count": 66,
     "metadata": {},
     "output_type": "execute_result"
    }
   ],
   "source": [
    "bfs_navigator(CHANGCHUN, BANGKOK, connection)"
   ]
  },
  {
   "cell_type": "markdown",
   "metadata": {},
   "source": [
    "## 文本自动生成"
   ]
  },
  {
   "cell_type": "code",
   "execution_count": 67,
   "metadata": {},
   "outputs": [],
   "source": [
    "grammar = \"\"\"\n",
    "sentence => noun_phrase verb_phrase \n",
    "noun_phrase => Article Adj* noun\n",
    "Adj* => null | Adj Adj*\n",
    "verb_phrase => verb noun_phrase\n",
    "Article =>  一个 | 这个\n",
    "noun =>   女人 |  篮球 | 桌子 | 小猫\n",
    "verb => 看着   |  坐在 |  听着 | 看见\n",
    "Adj =>   蓝色的 |  好看的 | 小小的\n",
    "\"\"\""
   ]
  },
  {
   "cell_type": "code",
   "execution_count": 68,
   "metadata": {},
   "outputs": [],
   "source": [
    "decimal_grammar = \"\"\"\n",
    "expression = operator op operator\n",
    "operator = num op num\n",
    "num = 0 | 1 | 2 | 3 | 4 | 5 | 6 | 7 | 8 | 9 | num num\n",
    "op = + | - | * | /\n",
    "\"\"\""
   ]
  },
  {
   "cell_type": "code",
   "execution_count": 69,
   "metadata": {},
   "outputs": [
    {
     "name": "stdout",
     "output_type": "stream",
     "text": [
      "line: \n",
      "line: sentence => noun_phrase verb_phrase \n",
      "line: noun_phrase => Article Adj* noun\n",
      "line: Adj* => null | Adj Adj*\n",
      "line: verb_phrase => verb noun_phrase\n",
      "line: Article =>  一个 | 这个\n",
      "line: noun =>   女人 |  篮球 | 桌子 | 小猫\n",
      "line: verb => 看着   |  坐在 |  听着 | 看见\n",
      "line: Adj =>   蓝色的 |  好看的 | 小小的\n",
      "line: \n"
     ]
    }
   ],
   "source": [
    "for line in grammar.split('\\n'):\n",
    "    print('line: ' + line)"
   ]
  },
  {
   "cell_type": "code",
   "execution_count": 80,
   "metadata": {},
   "outputs": [],
   "source": [
    "def parse_grammar(grammar_str, sep='=>'):\n",
    "    grammar = {}\n",
    "    \n",
    "    for line in grammar_str.split('\\n'):\n",
    "        line = line.strip()\n",
    "        if not line:\n",
    "            continue\n",
    "        rule, exprs = line.split(sep)\n",
    "        \n",
    "        grammar[rule.strip()] = [e.split() for e in exprs.split('|')]\n",
    "    \n",
    "    return grammar"
   ]
  },
  {
   "cell_type": "code",
   "execution_count": 81,
   "metadata": {},
   "outputs": [
    {
     "data": {
      "text/plain": [
       "{'Adj': [['蓝色的'], ['好看的'], ['小小的']],\n",
       " 'Adj*': [['null'], ['Adj', 'Adj*']],\n",
       " 'Article': [['一个'], ['这个']],\n",
       " 'noun': [['女人'], ['篮球'], ['桌子'], ['小猫']],\n",
       " 'noun_phrase': [['Article', 'Adj*', 'noun']],\n",
       " 'sentence': [['noun_phrase', 'verb_phrase']],\n",
       " 'verb': [['看着'], ['坐在'], ['听着'], ['看见']],\n",
       " 'verb_phrase': [['verb', 'noun_phrase']]}"
      ]
     },
     "execution_count": 81,
     "metadata": {},
     "output_type": "execute_result"
    }
   ],
   "source": [
    "parse_grammar(grammar)"
   ]
  },
  {
   "cell_type": "code",
   "execution_count": 96,
   "metadata": {},
   "outputs": [],
   "source": [
    "def gene(grammar_parsed, target='sentence'):\n",
    "    if target not in grammar_parsed:\n",
    "        return target\n",
    "    return ''.join([gene(grammar_parsed, sub_t) for sub_t in random.choice(grammar_parsed[target]) if sub_t != 'null'])"
   ]
  },
  {
   "cell_type": "code",
   "execution_count": 138,
   "metadata": {},
   "outputs": [
    {
     "data": {
      "text/plain": [
       "'一个蓝色的小猫看见这个蓝色的小小的女人'"
      ]
     },
     "execution_count": 138,
     "metadata": {},
     "output_type": "execute_result"
    },
    {
     "data": {
      "text/plain": [
       "'96-3+4+9'"
      ]
     },
     "execution_count": 138,
     "metadata": {},
     "output_type": "execute_result"
    }
   ],
   "source": [
    "grammar_parsed = parse_grammar(grammar)\n",
    "gene(grammar_parsed)\n",
    "grammar_parsed = parse_grammar(decimal_grammar, sep='=')\n",
    "gene(grammar_parsed, target='expression')"
   ]
  },
  {
   "cell_type": "markdown",
   "metadata": {},
   "source": [
    "# Question 3"
   ]
  },
  {
   "cell_type": "code",
   "execution_count": 272,
   "metadata": {},
   "outputs": [],
   "source": [
    "def is_variable(pat):\n",
    "    return pat.startswith('?') and all(c.isalpha() for c in pat[1:])"
   ]
  },
  {
   "cell_type": "code",
   "execution_count": 140,
   "metadata": {},
   "outputs": [],
   "source": [
    "def pat_match(pattern, saying):\n",
    "    if is_variable(pattern[0]):\n",
    "        return (pattern[0], saying[0])\n",
    "    if pattern[0] != saying[0]:\n",
    "        return False\n",
    "    return pat_match(pattern[1:], saying[1:])"
   ]
  },
  {
   "cell_type": "code",
   "execution_count": 144,
   "metadata": {},
   "outputs": [
    {
     "data": {
      "text/plain": [
       "('?X', '2+2')"
      ]
     },
     "execution_count": 144,
     "metadata": {},
     "output_type": "execute_result"
    }
   ],
   "source": [
    "pat_match(\"?X equals ?X\".split(), \"2+2 equals 2+2\".split())"
   ]
  },
  {
   "cell_type": "code",
   "execution_count": 189,
   "metadata": {},
   "outputs": [],
   "source": [
    "def pat_match(pattern, saying):\n",
    "    if len(pattern) != len(saying):\n",
    "        return False\n",
    "    if len(pattern) == 1 and is_variable(pattern[0]):\n",
    "        return [(pattern[0], saying[0])]\n",
    "    if len(pattern) == 1 and pattern[0] != saying[0]:\n",
    "        return False\n",
    "    if len(pattern) == 1 and pattern[0] == saying[0]:\n",
    "        return []\n",
    "    return  pat_match([pattern[0]], [saying[0]]) + pat_match(pattern[1:], saying[1:])"
   ]
  },
  {
   "cell_type": "code",
   "execution_count": 191,
   "metadata": {},
   "outputs": [
    {
     "data": {
      "text/plain": [
       "[('?X', '3'), ('?Y', '2')]"
      ]
     },
     "execution_count": 191,
     "metadata": {},
     "output_type": "execute_result"
    }
   ],
   "source": [
    "pat_match(\"?X greater than ?Y\".split(), \"3 greater than 2\".split())"
   ]
  },
  {
   "cell_type": "code",
   "execution_count": 295,
   "metadata": {},
   "outputs": [],
   "source": [
    "def pat_to_dict(patterns):\n",
    "#     return dict(patterns)\n",
    "    return {k:' '.join(v) if isinstance(v, list) else v for k, v in patterns}"
   ]
  },
  {
   "cell_type": "code",
   "execution_count": 296,
   "metadata": {},
   "outputs": [],
   "source": [
    "def substitude(src_rule, parsed_rules):\n",
    "    src_rule = list(src_rule)\n",
    "    for i, symbol in enumerate(src_rule):\n",
    "        if is_variable(symbol) and symbol in parsed_rules:\n",
    "            src_rule[i] = parsed_rules[symbol]\n",
    "    return src_rule"
   ]
  },
  {
   "cell_type": "code",
   "execution_count": 178,
   "metadata": {},
   "outputs": [
    {
     "data": {
      "text/plain": [
       "'Why does John need vacation ?'"
      ]
     },
     "execution_count": 178,
     "metadata": {},
     "output_type": "execute_result"
    }
   ],
   "source": [
    "john_pat = pat_match('?P needs ?X'.split(), \"John needs vacation\".split())\n",
    "john_pat = pat_to_dict(john_pat)\n",
    "' '.join(substitude(\"Why does ?P need ?X ?\".split(), john_pat))"
   ]
  },
  {
   "cell_type": "code",
   "execution_count": 179,
   "metadata": {},
   "outputs": [],
   "source": [
    "defined_patterns = {\n",
    "    \"I need ?X\": [\"Image you will get ?X soon\", \"Why do you need ?X ?\"], \n",
    "    \"My ?X told me something\": [\"Talk about more about your ?X\", \"How do you think about your ?X ?\"]\n",
    "}"
   ]
  },
  {
   "cell_type": "code",
   "execution_count": 204,
   "metadata": {},
   "outputs": [],
   "source": [
    "def get_response(saying, rules=defined_patterns):\n",
    "    \"\"\"\" please implement the code, to get the response as followings:\n",
    "    \n",
    "    >>> get_response('I need iPhone') \n",
    "    >>> Image you will get iPhone soon\n",
    "    >>> get_response(\"My mother told me something\")\n",
    "    >>> Talk about more about your monther.\n",
    "    \"\"\"\n",
    "    for rule in rules:\n",
    "        try: \n",
    "            patterns = pat_match(rule.split(), saying.split())\n",
    "            if not patterns:\n",
    "                continue\n",
    "            src_rule = random.choice(rules[rule])\n",
    "            break\n",
    "        except:\n",
    "            continue\n",
    "    else:\n",
    "        return 'No Pattern FOUND!'\n",
    "    \n",
    "    patterns = pat_to_dict(patterns) \n",
    "    return ' '.join(substitude(src_rule.split(), patterns))\n",
    "            "
   ]
  },
  {
   "cell_type": "code",
   "execution_count": 211,
   "metadata": {},
   "outputs": [
    {
     "data": {
      "text/plain": [
       "'Why do you need iPhone ?'"
      ]
     },
     "execution_count": 211,
     "metadata": {},
     "output_type": "execute_result"
    },
    {
     "data": {
      "text/plain": [
       "'Talk about more about your mother'"
      ]
     },
     "execution_count": 211,
     "metadata": {},
     "output_type": "execute_result"
    }
   ],
   "source": [
    "get_response('I need iPhone') \n",
    "#  Image you will get iPhone soon\n",
    "get_response(\"My mother told me something\")\n",
    "#  Talk about more about your monther."
   ]
  },
  {
   "cell_type": "code",
   "execution_count": 270,
   "metadata": {},
   "outputs": [],
   "source": [
    "def is_pattern_segment(pattern):\n",
    "    return pattern.startswith('?*') and all(c.isalpha() for c in pattern[2:])"
   ]
  },
  {
   "cell_type": "code",
   "execution_count": 271,
   "metadata": {},
   "outputs": [
    {
     "data": {
      "text/plain": [
       "True"
      ]
     },
     "execution_count": 271,
     "metadata": {},
     "output_type": "execute_result"
    }
   ],
   "source": [
    "is_pattern_segment('?*P')"
   ]
  },
  {
   "cell_type": "code",
   "execution_count": 327,
   "metadata": {},
   "outputs": [],
   "source": [
    "def pat_match_with_segment(pattern, saying):\n",
    "    \n",
    "    if not pattern or not saying: return []\n",
    "    \n",
    "    for i, p in enumerate(pattern):\n",
    "        if is_variable(p):\n",
    "            return [(p, saying[0])] + pat_match_with_segment(pattern[i+1:], saying[1:])\n",
    "        elif is_pattern_segment(p):\n",
    "            last_index = get_index(pattern[i+1:], saying)\n",
    "            if last_index is None:\n",
    "                return []\n",
    "            return [(p.replace('*', ''), saying[:last_index+1])] + pat_match_with_segment(pattern[i+1:], saying[last_index+1:])\n",
    "        else:\n",
    "            if p == saying[0]:\n",
    "                return pat_match_with_segment(pattern[i+1:], saying[1:])\n",
    "            else:\n",
    "                return []\n",
    "\n",
    "def get_index(pattern, saying):\n",
    "    \n",
    "    if not pattern:\n",
    "        return len(saying) - 1 \n",
    "    \n",
    "    if not saying:\n",
    "        return None\n",
    "    \n",
    "    for i, p in enumerate(pattern):\n",
    "        if is_pattern_segment(p):\n",
    "            pattern = pattern[:i]\n",
    "            break\n",
    "            \n",
    "    for i, word in enumerate(saying):\n",
    "        if pattern == saying[i: i+len(pattern)]:\n",
    "            return i - 1\n",
    "    return None"
   ]
  },
  {
   "cell_type": "code",
   "execution_count": 458,
   "metadata": {},
   "outputs": [
    {
     "data": {
      "text/plain": [
       "[('?x', ['cat']), ('?y', ['dog'])]"
      ]
     },
     "execution_count": 458,
     "metadata": {},
     "output_type": "execute_result"
    }
   ],
   "source": [
    "pat_match_with_segment(['?*x', 'hello', '?*y'], ['cat', 'hello', 'dog'])"
   ]
  },
  {
   "cell_type": "code",
   "execution_count": 298,
   "metadata": {},
   "outputs": [
    {
     "data": {
      "text/plain": [
       "1"
      ]
     },
     "execution_count": 298,
     "metadata": {},
     "output_type": "execute_result"
    }
   ],
   "source": [
    "get_index('is very good'.split(), 'ABC DEF is very good'.split())"
   ]
  },
  {
   "cell_type": "code",
   "execution_count": 299,
   "metadata": {},
   "outputs": [
    {
     "data": {
      "text/plain": [
       "[('?P', ['My', 'dog'])]"
      ]
     },
     "execution_count": 299,
     "metadata": {},
     "output_type": "execute_result"
    },
    {
     "data": {
      "text/plain": [
       "[('?P', ['My', 'dog']), ('?X', ['my', 'cat', 'is', 'very', 'cute'])]"
      ]
     },
     "execution_count": 299,
     "metadata": {},
     "output_type": "execute_result"
    }
   ],
   "source": [
    "pat_match_with_segment('?*P is very good and'.split(), \"My dog is very good and\".split())\n",
    "[('?P', ['My', 'dog']), ('?X', ['my', 'cat', 'is', 'very', 'cute'])]"
   ]
  },
  {
   "cell_type": "code",
   "execution_count": 300,
   "metadata": {},
   "outputs": [
    {
     "data": {
      "text/plain": [
       "[('?P', ['My', 'dog']), ('?X', ['my', 'cat', 'is', 'very', 'cute'])]"
      ]
     },
     "execution_count": 300,
     "metadata": {},
     "output_type": "execute_result"
    },
    {
     "data": {
      "text/plain": [
       "[('?P', ['My', 'dog']), ('?X', ['my', 'cat', 'is', 'very', 'cute'])]"
      ]
     },
     "execution_count": 300,
     "metadata": {},
     "output_type": "execute_result"
    }
   ],
   "source": [
    "pat_match_with_segment('?*P is very good and ?*X'.split(), \"My dog is very good and my cat is very cute\".split())\n",
    "[('?P', ['My', 'dog']), ('?X', ['my', 'cat', 'is', 'very', 'cute'])]"
   ]
  },
  {
   "cell_type": "code",
   "execution_count": 301,
   "metadata": {},
   "outputs": [
    {
     "data": {
      "text/plain": [
       "['Why', 'do', 'you', 'neeed', 'an iPhone']"
      ]
     },
     "execution_count": 301,
     "metadata": {},
     "output_type": "execute_result"
    }
   ],
   "source": [
    "substitude(\"Why do you neeed ?X\".split(), pat_to_dict(pat_match_with_segment('I need ?*X'.split(), \n",
    "                  \"I need an iPhone\".split())))"
   ]
  },
  {
   "cell_type": "code",
   "execution_count": 303,
   "metadata": {},
   "outputs": [
    {
     "data": {
      "text/plain": [
       "['Hi,', 'how', 'do', 'you', 'do?']"
      ]
     },
     "execution_count": 303,
     "metadata": {},
     "output_type": "execute_result"
    }
   ],
   "source": [
    "substitude(\"Hi, how do you do?\".split(), pat_to_dict(pat_match_with_segment('?*X hello ?*Y'.split(), \n",
    "                  \"I am mike, hello \".split())))"
   ]
  },
  {
   "cell_type": "code",
   "execution_count": 548,
   "metadata": {},
   "outputs": [],
   "source": [
    "rule_responses = {\n",
    "    '?*x hello ?*y': ['How do you do', 'Please state your problem'],\n",
    "    '?*x I want ?*y': ['what would it mean if you got ?y', 'Why do you want ?y', 'Suppose you got ?y soon'],\n",
    "    '?*x if ?*y': ['Do you really think its likely that ?y', 'Do you wish that ?y', 'What do you think about ?y', 'Really-- if ?y'],\n",
    "    '?*x no ?*y': ['why not?', 'You are being a negative', 'Are you saying \\'No\\' just to be negative?'],\n",
    "    '?*x I was ?*y': ['Were you really', 'Perhaps I already knew you were ?y', 'Why do you tell me you were ?y now?'],\n",
    "    '?*x I feel ?*y': ['Do you often feel ?y ?', 'What other feelings do you have?'],\n",
    "    '?*x你好?*y': ['你好呀', '请告诉我你的问题'],\n",
    "    '?*x我想?*y': ['你觉得?y有什么意义呢？', '为什么你想?y', '你可以想想你很快就可以?y了'],\n",
    "    '?*x我想要?*y': ['?x想问你，你觉得?y有什么意义呢?', '为什么你想?y', '?x觉得... 你可以想想你很快就可以有?y了', '你看?x像?y不', '我看你就像?y'],\n",
    "    '?*x喜欢?*y': ['喜欢?y的哪里？', '?y有什么好的呢？', '你想要?y吗？'],\n",
    "    '?*x讨厌?*y': ['?y怎么会那么讨厌呢?', '讨厌?y的哪里？', '?y有什么不好呢？', '你不想要?y吗？'],\n",
    "    '?*xAI?*y': ['你为什么要提AI的事情？', '你为什么觉得AI要解决你的问题？'],\n",
    "    '?*x机器人?*y': ['你为什么要提机器人的事情？', '你为什么觉得机器人要解决你的问题？'],\n",
    "    '?*x对不起?*y': ['不用道歉', '你为什么觉得你需要道歉呢?'],\n",
    "    '?*x我记得?*y': ['你经常会想起这个吗？', '除了?y你还会想起什么吗？', '你为什么和我提起?y'],\n",
    "    '?*x如果?*y': ['你真的觉得?y会发生吗？', '你希望?y吗?', '真的吗？如果?y的话', '关于?y你怎么想？'],\n",
    "    '?*x我?*z梦见?*y':['真的吗? --- ?y', '你在醒着的时候，以前想象过?y吗？', '你以前梦见过?y吗'],\n",
    "    '?*x妈妈?*y': ['你家里除了?y还有谁?', '嗯嗯，多说一点和你家里有关系的', '她对你影响很大吗？'],\n",
    "    '?*x爸爸?*y': ['你家里除了?y和?x还有谁?', '嗯嗯，多说一点和你家里有关系的', '他对你影响很大吗？', '每当你想起你爸爸的时候， 你还会想起其他的吗?'],\n",
    "    '?*x我愿意?*y': ['我可以帮你?y吗？', '你可以解释一下，为什么想?y'],\n",
    "    '?*x我很难过，因为?*y': ['我听到你这么说， 也很难过', '?y不应该让你这么难过的'],\n",
    "    '?*x难过?*y': ['我听到你这么说， 也很难过',\n",
    "                 '不应该让你这么难过的，你觉得你拥有什么，就会不难过?',\n",
    "                 '你觉得事情变成什么样，你就不难过了?'],\n",
    "    '?*x就像?*y': ['你觉得?x和?y有什么相似性？', '?x和?y真的有关系吗？', '怎么说？'],\n",
    "    '?*x和?*y都?*z': ['你觉得?z有什么问题吗?', '?z会对你有什么影响呢?'],\n",
    "    '?*x和?*y一样?*z': ['你觉得?z有什么问题吗?', '?z会对你有什么影响呢?'],\n",
    "    '?*x我是?*y': ['真的吗？', '?x想告诉你，或许我早就知道你是?y', '你为什么现在才告诉我你是?y'],\n",
    "    '?*x我是?*y吗': ['如果你是?y会怎么样呢？', '你觉得你是?y吗', '如果你是?y，那一位着什么?'],\n",
    "    '?*x你是?*y吗':  ['你为什么会对我是不是?y感兴趣?', '那你希望我是?y吗', '你要是喜欢， 我就会是?y'],\n",
    "    '?*x你是?*y' : ['为什么你觉得我是?y'],\n",
    "    '?*x因为?*y' : ['?y是真正的原因吗？', '你觉得会有其他原因吗?'],\n",
    "    '?*x我不能?*y': ['你或许现在就能?*y', '如果你能?*y,会怎样呢？'],\n",
    "    '?*x我觉得?*y': ['你经常这样感觉吗？', '除了到这个，你还有什么其他的感觉吗？'],\n",
    "    '?*x我?*y你?*z': ['其实很有可能我们互相?y'],\n",
    "    '?*x你为什么不?*y': ['你自己为什么不?y', '你觉得我不会?y', '等我心情好了，我就?y'],\n",
    "    '?*x好的?*y': ['好的', '你是一个很正能量的人'],\n",
    "    '?*x嗯嗯?*y': ['好的', '你是一个很正能量的人'],\n",
    "    '?*x不嘛?*y': ['为什么不？', '你有一点负能量', '你说 不，是想表达不想的意思吗？'],\n",
    "    '?*x不要?*y': ['为什么不？', '你有一点负能量', '你说 不，是想表达不想的意思吗？'],\n",
    "    '?*x有些人?*y': ['具体是哪些人呢?'],\n",
    "    '?*x有的人?*y': ['具体是哪些人呢?'],\n",
    "    '?*x某些人?*y': ['具体是哪些人呢?'],\n",
    "    '?*x每个人?*y': ['我确定不是人人都是', '你能想到一点特殊情况吗？', '例如谁？', '你看到的其实只是一小部分人'],\n",
    "    '?*x所有人?*y': ['我确定不是人人都是', '你能想到一点特殊情况吗？', '例如谁？', '你看到的其实只是一小部分人'],\n",
    "    '?*x总是?*y': ['你能想到一些其他情况吗?', '例如什么时候?', '你具体是说哪一次？', '真的---总是吗？'],\n",
    "    '?*x一直?*y': ['你能想到一些其他情况吗?', '例如什么时候?', '你具体是说哪一次？', '真的---总是吗？'],\n",
    "    '?*x或许?*y': ['你看起来不太确定'],\n",
    "    '?*x可能?*y': ['你看起来不太确定'],\n",
    "    '?*x他们是?*y吗？': ['你觉得他们可能不是?y？'],\n",
    "    '?*x': ['很有趣', '请继续', '我不太确定我很理解你说的, 能稍微详细解释一下吗?']\n",
    "}"
   ]
  },
  {
   "cell_type": "markdown",
   "metadata": {},
   "source": [
    "## 问题1"
   ]
  },
  {
   "cell_type": "code",
   "execution_count": 328,
   "metadata": {},
   "outputs": [],
   "source": [
    "def get_response(saying, rules=defined_patterns):\n",
    "    \n",
    "    for rule in rules:\n",
    "        try: \n",
    "            patterns = pat_match_with_segment(rule.split(), saying.split())\n",
    "#             print(patterns)\n",
    "            if not patterns:\n",
    "                continue\n",
    "            src_rule = random.choice(rules[rule])\n",
    "            break\n",
    "        except:\n",
    "            continue\n",
    "    else:\n",
    "        return 'No Pattern FOUND!'\n",
    "    \n",
    "    patterns = pat_to_dict(patterns) \n",
    "    return ' '.join(substitude(src_rule.split(), patterns))"
   ]
  },
  {
   "cell_type": "code",
   "execution_count": 339,
   "metadata": {},
   "outputs": [
    {
     "data": {
      "text/plain": [
       "'Please state your problem'"
      ]
     },
     "execution_count": 339,
     "metadata": {},
     "output_type": "execute_result"
    },
    {
     "data": {
      "text/plain": [
       "'What do you think about you are right'"
      ]
     },
     "execution_count": 339,
     "metadata": {},
     "output_type": "execute_result"
    }
   ],
   "source": [
    "get_response('I hello iPhone', rule_responses)\n",
    "get_response('true if you are right', rule_responses)"
   ]
  },
  {
   "cell_type": "markdown",
   "metadata": {},
   "source": [
    "## 问题2"
   ]
  },
  {
   "cell_type": "code",
   "execution_count": 372,
   "metadata": {},
   "outputs": [],
   "source": [
    "jieba.add_word('?*x')\n",
    "jieba.add_word('?*y')\n",
    "# jieba.suggest_freq('?*x', tune=True)"
   ]
  },
  {
   "cell_type": "code",
   "execution_count": 538,
   "metadata": {},
   "outputs": [],
   "source": [
    "def correct_rule(rule_cutted):\n",
    "    rule_cutted = [r for r in rule_cutted if r.strip()]\n",
    "    rule_ = []\n",
    "    i = 0\n",
    "    while i < len(rule_cutted):\n",
    "        rule_cutted[i] = rule_cutted[i].strip()\n",
    "        if not rule_cutted[i]: \n",
    "            i += 1\n",
    "            continue\n",
    "            \n",
    "        symbol = ''.join(rule_cutted[i:i+3])\n",
    "        if is_pattern_segment(symbol):\n",
    "            rule_.append(symbol)\n",
    "            i += 3\n",
    "        else:\n",
    "            rule_.append(rule_cutted[i])\n",
    "            i += 1\n",
    "            \n",
    "            \n",
    "    return rule_\n",
    "\n",
    "\n",
    "def correct_rule2(rule_cutted):\n",
    "    rule_cutted = [r for r in rule_cutted if r.strip()]\n",
    "    rule_ = []\n",
    "    i = 0\n",
    "    while i < len(rule_cutted):\n",
    "        rule_cutted[i] = rule_cutted[i].strip()\n",
    "        if not rule_cutted[i]: \n",
    "            i += 1\n",
    "            continue\n",
    "            \n",
    "        symbol = ''.join(rule_cutted[i:i+2])\n",
    "        if is_variable(symbol):\n",
    "            rule_.append(symbol)\n",
    "            i += 2\n",
    "        else:\n",
    "            rule_.append(rule_cutted[i])\n",
    "            i += 1\n",
    "            \n",
    "    return rule_"
   ]
  },
  {
   "cell_type": "code",
   "execution_count": 539,
   "metadata": {},
   "outputs": [],
   "source": [
    "def get_response(saying, rules=defined_patterns):\n",
    "    \n",
    "    saying = jieba.lcut(saying, cut_all=False)\n",
    "    saying = [word for word in saying if word.strip()]\n",
    "    \n",
    "#     jieba.add_word('?*x')\n",
    "#     jieba.add_word('?*y')\n",
    "#     jieba.suggest_freq(\"?*x\", True)\n",
    "#     jieba.suggest_freq(\"?*y\", True)\n",
    "    jieba.suggest_freq(\"AI\", True)\n",
    "    \n",
    "    for rule in rules:\n",
    "        \n",
    "        # 合并被误分词的 '?*x', '?*y' 等\n",
    "        \n",
    "        rule_cutted = jieba.lcut(rule, cut_all=False)\n",
    "        rule_ = correct_rule(rule_cutted)\n",
    "#         rule_cutted = [r for r in rule_cutted if r.strip()]\n",
    "#         rule_ = []\n",
    "#         i = 0\n",
    "#         while i < len(rule_cutted):\n",
    "#             rule_cutted[i] = rule_cutted[i].strip()\n",
    "#             if not rule_cutted[i]: \n",
    "#                 i += 1\n",
    "#                 continue\n",
    "#             symbol = ''.join(rule_cutted[i:i+3])\n",
    "#             if is_pattern_segment(symbol):\n",
    "#                 rule_.append(symbol)\n",
    "#                 i += 3\n",
    "#             else:\n",
    "#                 rule_.append(rule_cutted[i])\n",
    "#                 i += 1\n",
    "#         print(rule_)\n",
    "                \n",
    "#         print(rule_)\n",
    "#         print(saying)\n",
    "        try: \n",
    "            patterns = pat_match_with_segment(rule_, saying)\n",
    "#             patterns = pat_match_with_segment(rule.split(), saying.split())\n",
    "#             print(patterns)\n",
    "            if not patterns:\n",
    "                continue\n",
    "            src_rule = random.choice(rules[rule])\n",
    "            break\n",
    "        except:\n",
    "#             print('here?')\n",
    "            continue\n",
    "    else:\n",
    "        return 'No Pattern FOUND!'\n",
    "    \n",
    "    print(patterns)\n",
    "    patterns = pat_to_dict(patterns) \n",
    "    src_rule = jieba.lcut(src_rule, cut_all=False)\n",
    "    src_rule = correct_rule2(src_rule)\n",
    "#     src_rule = [r for r in src_rule if r.strip()]\n",
    "    print(src_rule)\n",
    "    print(patterns)\n",
    "    return ' '.join(substitude(src_rule, patterns))"
   ]
  },
  {
   "cell_type": "code",
   "execution_count": 540,
   "metadata": {},
   "outputs": [
    {
     "name": "stdout",
     "output_type": "stream",
     "text": [
      "[('?x', ['cat']), ('?y', ['dog'])]\n",
      "['How', 'do', 'you', 'do']\n",
      "{'?x': 'cat', '?y': 'dog'}\n"
     ]
    },
    {
     "data": {
      "text/plain": [
       "'How do you do'"
      ]
     },
     "execution_count": 540,
     "metadata": {},
     "output_type": "execute_result"
    }
   ],
   "source": [
    "get_response('cat hello dog', rule_responses)\n",
    "# get_response('我的爸爸叫爷爷', rule_responses)"
   ]
  },
  {
   "cell_type": "code",
   "execution_count": 558,
   "metadata": {},
   "outputs": [
    {
     "name": "stdout",
     "output_type": "stream",
     "text": [
      "[('?x', ['cat']), ('?y', ['叫', '爷爷'])]\n",
      "['你', '家里', '除了', '?y', '和', '?x', '还有', '谁', '?']\n",
      "{'?x': 'cat', '?y': '叫 爷爷'}\n"
     ]
    },
    {
     "data": {
      "text/plain": [
       "'你 家里 除了 叫 爷爷 和 cat 还有 谁 ?'"
      ]
     },
     "execution_count": 558,
     "metadata": {},
     "output_type": "execute_result"
    }
   ],
   "source": [
    "get_response('cat爸爸叫爷爷', rule_responses)"
   ]
  },
  {
   "cell_type": "markdown",
   "metadata": {},
   "source": [
    "## 问题3"
   ]
  },
  {
   "cell_type": "markdown",
   "metadata": {},
   "source": [
    "无."
   ]
  },
  {
   "cell_type": "markdown",
   "metadata": {},
   "source": [
    "## 问题4"
   ]
  },
  {
   "cell_type": "markdown",
   "metadata": {},
   "source": [
    "1.  \n",
    "优点是没有硬编码规则, 较为灵活.   \n",
    "缺点是没有足够的灵活, 虽然逻辑没有硬编码到代码中, 但仍然是通过映射, 写死在了文本中, 是否可通过机器学习, 将抽象层级进一步提高, 让机器自动从数据中学习规则, 达到真正的 Data driven; 另外可通过正则去匹配模式, 更加简洁强大."
   ]
  },
  {
   "cell_type": "markdown",
   "metadata": {},
   "source": [
    "2. \n",
    "数据驱动就是指从数据中学习规则、逻辑. \n",
    "本程序中主要体现在规则、逻辑不是硬编码到代码中, 而是通过问答映射数据的方式定义的."
   ]
  },
  {
   "cell_type": "markdown",
   "metadata": {},
   "source": [
    "3. 数据驱动是 AI 的核心. AI 是数据驱动的表现形式."
   ]
  },
  {
   "cell_type": "code",
   "execution_count": null,
   "metadata": {},
   "outputs": [],
   "source": []
  }
 ],
 "metadata": {
  "kernelspec": {
   "display_name": "Python 3",
   "language": "python",
   "name": "python3"
  },
  "language_info": {
   "codemirror_mode": {
    "name": "ipython",
    "version": 3
   },
   "file_extension": ".py",
   "mimetype": "text/x-python",
   "name": "python",
   "nbconvert_exporter": "python",
   "pygments_lexer": "ipython3",
   "version": "3.6.8"
  }
 },
 "nbformat": 4,
 "nbformat_minor": 2
}
